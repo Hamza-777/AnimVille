{
 "cells": [
  {
   "cell_type": "code",
   "execution_count": 8,
   "metadata": {},
   "outputs": [],
   "source": [
    "# Import necessary libraries\n",
    "import requests\n",
    "import bs4\n",
    "import json\n",
    "import shutil\n",
    "\n",
    "# Rest of the code\n",
    "\n",
    "links = ['akame-ga-kill', 'another', 'ansatsu-kyoushitsu-assassination-classroom', 'attack-titan', 'beelzebub', 'berserk-2016', \n",
    "    'black-clover', 'black-lagoon', 'bleach', 'blue-exorcist', 'boruto-naruto-next-generations', 'classroom-elite',\n",
    "    'code-geass', 'deadman-wonderland', 'death-note', 'demon-slayer-kimetsu-no-yaiba', 'devilman-crybaby', \n",
    "    'dr-stone', 'dragon-ball', 'dragon-ball-gt', 'dragon-ball-heroes', 'dragon-ball-super', 'dragon-ball-z', 'elfen-lied', \n",
    "    'erased', 'fairy-tail','fatestay-night', 'fatestay-night-unlimited-blade-works', 'fate-zero', 'fire-force', 'shokugeki-no-soma', \n",
    "    'fruits-basket-2019', 'fullmetal-alchemist-brotherhood', 'gintama', 'goblin-slayer', 'gurren-lagann', 'haikyuu', 'high-school-dxd', \n",
    "    'highschoool-dead', 'hunter-x-hunter', 'jojos-bizarre-adventure-tv', 'jujutsu-kaisen', 'kabaneri-iron-fortress', 'kill-la-kill', 'kingdom', \n",
    "    'kuroko’s-basketball', 'mob-psycho-100', 'my-hero-academia', 'naruto', 'naruto-shippuden', 'one-piece', 'one-punch-man', \n",
    "    'parasyte-maxim', 'pokemon', 'prison-school', 're-zero-starting-life-another-world', 'samurai-champloo', 'serial-experiments-lain', 'slam-dunk-0', \n",
    "    'steinsgate', 'sword-art-online', 'sword-art-online-alicization', 'terror-resonance', 'devil-part-timer', 'god-high-school', 'promised-neverland', \n",
    "    'nanatsu-no-taizai', 'tokyo-ghoul', 'tokyo-ghoul-re-0', 'vinland-saga']\n",
    "\n",
    "def getJsons(link):\n",
    "\n",
    "    result = requests.get('https://www.animefillerlist.com/shows/'+link)\n",
    "    soup = bs4.BeautifulSoup(result.text, 'lxml')\n",
    "\n",
    "    numbers = soup.select('td.Number')\n",
    "    titles = soup.select('td.Title>a')\n",
    "    types = soup.select('td.Type>span')\n",
    "    dates = soup.select('td.Date')\n",
    "\n",
    "    for i in range(len(numbers)): \n",
    "        numbers[i] = numbers[i].getText()\n",
    "        titles[i] = titles[i].getText()\n",
    "        types[i] = types[i].getText()\n",
    "        dates[i] = dates[i].getText()\n",
    "\n",
    "    anime = []\n",
    "    for i in range(len(numbers)):\n",
    "        if types[i] == 'Filler':\n",
    "            y = 'red'\n",
    "        else:\n",
    "            y = 'green'\n",
    "        x = {'id': numbers[i], 'title': titles[i], 'type': types[i], 'date': dates[i], 'class': y}\n",
    "        anime.append(x)\n",
    "\n",
    "    animeJSON = json.dumps(anime)\n",
    "\n",
    "    f = open(link+'.json', 'w+')\n",
    "    f.write(animeJSON)\n",
    "    f.close()\n",
    "\n",
    "    shutil.move(link+'.json', 'C:\\\\Users\\\\HAMZA\\\\Desktop\\\\Anime Filler List\\\\JSON')\n",
    "    \n",
    "for link in links:\n",
    "    getJsons(link)"
   ]
  },
  {
   "cell_type": "code",
   "execution_count": null,
   "metadata": {},
   "outputs": [],
   "source": []
  }
 ],
 "metadata": {
  "kernelspec": {
   "display_name": "Python 3",
   "language": "python",
   "name": "python3"
  },
  "language_info": {
   "codemirror_mode": {
    "name": "ipython",
    "version": 3
   },
   "file_extension": ".py",
   "mimetype": "text/x-python",
   "name": "python",
   "nbconvert_exporter": "python",
   "pygments_lexer": "ipython3",
   "version": "3.7.0"
  }
 },
 "nbformat": 4,
 "nbformat_minor": 4
}
