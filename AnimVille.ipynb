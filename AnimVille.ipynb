{
 "cells": [
  {
   "cell_type": "code",
   "execution_count": 8,
   "metadata": {},
   "outputs": [],
   "source": [
    "# Import necessary libraries\n",
    "import requests\n",
    "import bs4\n",
    "import json\n",
    "import shutil\n",
    "\n",
    "# Rest of the code\n",
    "\n",
    "links = ['akame-ga-kill', 'another', 'ansatsu-kyoushitsu-assassination-classroom', 'attack-titan', 'beelzebub', 'berserk-2016', \n",
    "    'black-clover', 'black-lagoon', 'bleach', 'blue-exorcist', 'boruto-naruto-next-generations', 'classroom-elite',\n",
    "    'code-geass', 'deadman-wonderland', 'death-note', 'demon-slayer-kimetsu-no-yaiba', 'devilman-crybaby', \n",
    "    'dr-stone', 'dragon-ball', 'dragon-ball-gt', 'dragon-ball-heroes', 'dragon-ball-super', 'dragon-ball-z', 'elfen-lied', \n",
    "    'erased', 'fairy-tail','fatestay-night', 'fatestay-night-unlimited-blade-works', 'fate-zero', 'fire-force', \n",
    "    'shokugeki-no-soma', 'fruits-basket-2019', 'fullmetal-alchemist-brotherhood', 'gintama', 'goblin-slayer', 'gurren-lagann',\n",
    "    'haikyuu', 'high-school-dxd', 'highschoool-dead', 'hunter-x-hunter', 'jojos-bizarre-adventure-tv', 'jujutsu-kaisen', \n",
    "    'kabaneri-iron-fortress', 'kill-la-kill', 'kingdom', 'kuroko’s-basketball', 'mob-psycho-100', 'my-hero-academia', 'naruto', \n",
    "    'naruto-shippuden', 'one-piece', 'one-punch-man', 'parasyte-maxim', 'pokemon', 'prison-school', \n",
    "    're-zero-starting-life-another-world', 'samurai-champloo', 'serial-experiments-lain', 'slam-dunk-0', 'steinsgate', \n",
    "    'sword-art-online', 'sword-art-online-alicization', 'terror-resonance', 'devil-part-timer', 'god-high-school', \n",
    "    'promised-neverland', 'nanatsu-no-taizai', 'tokyo-ghoul', 'tokyo-ghoul-re-0', 'vinland-saga']\n",
    "\n",
    "def getJsons(link):\n",
    "\n",
    "    result = requests.get('https://www.animefillerlist.com/shows/'+link)\n",
    "    soup = bs4.BeautifulSoup(result.text, 'lxml')\n",
    "\n",
    "    numbers = soup.select('td.Number')\n",
    "    titles = soup.select('td.Title>a')\n",
    "    types = soup.select('td.Type>span')\n",
    "    dates = soup.select('td.Date')\n",
    "\n",
    "    for i in range(len(numbers)): \n",
    "        numbers[i] = numbers[i].getText()\n",
    "        titles[i] = titles[i].getText()\n",
    "        types[i] = types[i].getText()\n",
    "        dates[i] = dates[i].getText()\n",
    "\n",
    "    anime = []\n",
    "    for i in range(len(numbers)):\n",
    "        if types[i] == 'Filler':\n",
    "            y = 'red'\n",
    "        else:\n",
    "            y = 'green'\n",
    "        x = {'id': numbers[i], 'title': titles[i], 'type': types[i], 'date': dates[i], 'class': y}\n",
    "        anime.append(x)\n",
    "\n",
    "    animeJSON = json.dumps(anime)\n",
    "\n",
    "    f = open(link+'.json', 'w+')\n",
    "    f.write(animeJSON)\n",
    "    f.close()\n",
    "\n",
    "    shutil.move(link+'.json', 'C:\\\\Users\\\\HAMZA\\\\Desktop\\\\Anime Filler List\\\\JSON')\n",
    "    \n",
    "for link in links:\n",
    "    getJsons(link)"
   ]
  },
  {
   "cell_type": "code",
   "execution_count": 8,
   "metadata": {},
   "outputs": [],
   "source": [
    "import requests\n",
    "import bs4\n",
    "import json\n",
    "import shutil\n",
    "\n",
    "result = requests.get('https://www.animefillerlist.com/shows/nanatsu-no-taizai')\n",
    "soup = bs4.BeautifulSoup(result.text, 'lxml')\n",
    "\n",
    "desc = soup.select('.Description p')\n",
    "for i in range(len(desc)):\n",
    "    desc[i] = desc[i].getText()\n",
    "    \n",
    "desc = '<br><br>'.join(desc)\n",
    "desc\n",
    "\n",
    "labels = soup.select('#Condensed div .Label')\n",
    "\n",
    "for i in range(len(labels)):\n",
    "    labels[i] = labels[i].getText()\n",
    "    \n",
    "manga = ''\n",
    "mixed = ''\n",
    "filler = ''\n",
    "anime = ''\n",
    "    \n",
    "for i in labels:\n",
    "    if i == 'Manga Canon Episodes:':\n",
    "        manga = soup.select('.manga_canon .Episodes a')\n",
    "    elif i == 'Mixed Canon/Filler Episodes:':\n",
    "        mixed = soup.select('.mixed_canon\\/filler .Episodes a')\n",
    "    elif i == 'Filler Episodes:':\n",
    "        filler = soup.select('.filler .Episodes a')\n",
    "    else:\n",
    "        anime = soup.select('.anime_canon .Episodes a')   \n",
    "        \n",
    "if manga == '':\n",
    "    manga = ''\n",
    "else:\n",
    "    for i in range(len(manga)):\n",
    "        manga[i] = manga[i].getText()\n",
    "    \n",
    "    manga = ', '.join(manga)\n",
    "    \n",
    "if mixed == '':\n",
    "    mixed = ''\n",
    "else:\n",
    "    for i in range(len(mixed)):\n",
    "        mixed[i] = mixed[i].getText()\n",
    "\n",
    "    mixed = ', '.join(mixed)\n",
    "    \n",
    "if filler == '':\n",
    "    filler = ''\n",
    "else:\n",
    "    for i in range(len(filler)):\n",
    "        filler[i] = filler[i].getText()\n",
    "\n",
    "    filler = ', '.join(filler)\n",
    "    \n",
    "if anime == '':\n",
    "    anime = ''\n",
    "else:\n",
    "    for i in range(len(anime)):\n",
    "        anime[i] = anime[i].getText()\n",
    "\n",
    "    anime = ', '.join(anime)   "
   ]
  },
  {
   "cell_type": "code",
   "execution_count": 9,
   "metadata": {},
   "outputs": [
    {
     "data": {
      "text/plain": [
       "'The Seven Deadly Sins Filler List'"
      ]
     },
     "execution_count": 9,
     "metadata": {},
     "output_type": "execute_result"
    }
   ],
   "source": [
    "soup.select('.Right h1')[0].getText()"
   ]
  },
  {
   "cell_type": "code",
   "execution_count": 10,
   "metadata": {},
   "outputs": [
    {
     "data": {
      "text/plain": [
       "'1-19, 21, 23, 31-78'"
      ]
     },
     "execution_count": 10,
     "metadata": {},
     "output_type": "execute_result"
    }
   ],
   "source": [
    "manga"
   ]
  },
  {
   "cell_type": "code",
   "execution_count": 11,
   "metadata": {},
   "outputs": [
    {
     "data": {
      "text/plain": [
       "'20, 22, 24, 29-30'"
      ]
     },
     "execution_count": 11,
     "metadata": {},
     "output_type": "execute_result"
    }
   ],
   "source": [
    "mixed"
   ]
  },
  {
   "cell_type": "code",
   "execution_count": 12,
   "metadata": {},
   "outputs": [
    {
     "data": {
      "text/plain": [
       "'25-28'"
      ]
     },
     "execution_count": 12,
     "metadata": {},
     "output_type": "execute_result"
    }
   ],
   "source": [
    "filler"
   ]
  },
  {
   "cell_type": "code",
   "execution_count": 13,
   "metadata": {},
   "outputs": [
    {
     "data": {
      "text/plain": [
       "''"
      ]
     },
     "execution_count": 13,
     "metadata": {},
     "output_type": "execute_result"
    }
   ],
   "source": [
    "anime"
   ]
  },
  {
   "cell_type": "code",
   "execution_count": 14,
   "metadata": {},
   "outputs": [
    {
     "data": {
      "text/plain": [
       "'The Seven Deadly Sins is an ongoing anime series that started in 2014. So far 78 episodes of The Seven Deadly Sins have been aired. With a total of 4 reported filler episodes, The Seven Deadly Sins has a very low filler percentage of 5%.<br><br>The \"Seven Deadly Sins\" is a group of evil knights who conspired to overthrow the kingdom of Britannia, were said to have been eradicated by the Holy Knights, although some claim that they still live. Ten years later, the Holy Knights have staged a Coup d\\'état and captured the king, becoming the new, tyrannical rulers of the kingdom. Elizabeth, the king\\'s third daughter, sets out on a journey to find the \"Seven Deadly Sins,\" and to enlist their help in taking back the kingdom.'"
      ]
     },
     "execution_count": 14,
     "metadata": {},
     "output_type": "execute_result"
    }
   ],
   "source": [
    "desc"
   ]
  },
  {
   "cell_type": "code",
   "execution_count": null,
   "metadata": {},
   "outputs": [],
   "source": []
  }
 ],
 "metadata": {
  "kernelspec": {
   "display_name": "Python 3",
   "language": "python",
   "name": "python3"
  },
  "language_info": {
   "codemirror_mode": {
    "name": "ipython",
    "version": 3
   },
   "file_extension": ".py",
   "mimetype": "text/x-python",
   "name": "python",
   "nbconvert_exporter": "python",
   "pygments_lexer": "ipython3",
   "version": "3.7.0"
  }
 },
 "nbformat": 4,
 "nbformat_minor": 4
}
